{
 "cells": [
  {
   "cell_type": "code",
   "execution_count": 101,
   "metadata": {
    "collapsed": true
   },
   "outputs": [],
   "source": [
    "from spacy.en import English\n",
    "import spacy.en\n",
    "import random"
   ]
  },
  {
   "cell_type": "code",
   "execution_count": 126,
   "metadata": {
    "collapsed": false
   },
   "outputs": [],
   "source": [
    "with open('raven.txt', 'r') as myfile:\n",
    "    data=myfile.read().lower().split('\\n')\n",
    "    for line in data:\n",
    "        line = line.replace(\"\\n\",\"\")"
   ]
  },
  {
   "cell_type": "code",
   "execution_count": 127,
   "metadata": {
    "collapsed": false
   },
   "outputs": [],
   "source": [
    "nlp = English(parser=False, tagger=True, entity=False)"
   ]
  },
  {
   "cell_type": "code",
   "execution_count": 128,
   "metadata": {
    "collapsed": true
   },
   "outputs": [],
   "source": [
    "all_tags = []\n",
    "for line in data:\n",
    "    tokens = nlp(line)\n",
    "    tags = []\n",
    "    for toke in tokens:\n",
    "        tags.append((toke,toke.tag_))\n",
    "    all_tags.append(tags)"
   ]
  },
  {
   "cell_type": "code",
   "execution_count": 130,
   "metadata": {
    "collapsed": true
   },
   "outputs": [],
   "source": [
    "structure = []\n",
    "words     = {}\n",
    "allwords  = []\n",
    "\n",
    "for line in all_tags:\n",
    "    line_structure = []\n",
    "    for item in line:\n",
    "        line_structure.append(item[1])\n",
    "        if item[1] not in words.keys():\n",
    "            words[item[1]] = [item[0]]\n",
    "        else:\n",
    "            words[item[1]].append(item[0])\n",
    "        if len(item[1]) > 2:\n",
    "            allwords.append(item[0])\n",
    "    structure.append(line_structure)\n",
    "        "
   ]
  },
  {
   "cell_type": "code",
   "execution_count": 131,
   "metadata": {
    "collapsed": false
   },
   "outputs": [
    {
     "data": {
      "text/plain": [
       "dict_keys(['VBD', 'WDT', 'DT', 'RBR', 'JJS', \"''\", 'VB', 'NNS', 'PRP', 'VBZ', 'EX', '.', 'VBP', 'HYPH', 'RP', 'NNP', 'NN', 'IN', 'UH', 'TO', 'WP', ',', ':', 'MD', 'WRB', 'JJ', 'PRP$', 'POS', 'CD', 'WP$', 'VBG', 'RB', 'CC', 'VBN', 'JJR', '``', 'PDT'])"
      ]
     },
     "execution_count": 131,
     "metadata": {},
     "output_type": "execute_result"
    }
   ],
   "source": [
    "words.keys()"
   ]
  },
  {
   "cell_type": "code",
   "execution_count": 132,
   "metadata": {
    "collapsed": false
   },
   "outputs": [
    {
     "data": {
      "text/plain": [
       "[more, more, stronger, more, more, louder, more, more, faster, more]"
      ]
     },
     "execution_count": 132,
     "metadata": {},
     "output_type": "execute_result"
    }
   ],
   "source": [
    "words['JJR']"
   ]
  },
  {
   "cell_type": "code",
   "execution_count": 133,
   "metadata": {
    "collapsed": false
   },
   "outputs": [
    {
     "data": {
      "text/plain": [
       "['RB',\n",
       " 'IN',\n",
       " 'DT',\n",
       " 'NN',\n",
       " 'JJ',\n",
       " ',',\n",
       " 'IN',\n",
       " 'PRP',\n",
       " 'VBD',\n",
       " ',',\n",
       " 'JJ',\n",
       " 'CC',\n",
       " 'JJ',\n",
       " ',']"
      ]
     },
     "execution_count": 133,
     "metadata": {},
     "output_type": "execute_result"
    }
   ],
   "source": [
    "structure[0]"
   ]
  },
  {
   "cell_type": "code",
   "execution_count": 166,
   "metadata": {
    "collapsed": false,
    "scrolled": false
   },
   "outputs": [],
   "source": [
    "lines = []\n",
    "for line in structure:\n",
    "    newline = []\n",
    "    for item in line:\n",
    "        newline.append(str(random.choice(words[item])))\n",
    "    if len(newline) > 0:\n",
    "        newline[0] = newline[0].title()\n",
    "        if newline[0] == '\"':\n",
    "            newline[1] = newline[1].title()\n",
    "    lines.append(newline)"
   ]
  },
  {
   "cell_type": "code",
   "execution_count": 208,
   "metadata": {
    "collapsed": false
   },
   "outputs": [],
   "source": [
    "final_lines = []\n",
    "quote_open = False\n",
    "this_is_quote = False\n",
    "\n",
    "for line in lines:\n",
    "    linestring = \"\"\n",
    "    for word in line:\n",
    "        if word == '\"' or word == \"'\":\n",
    "            quote_open = not quote_open\n",
    "            this_is_quote = True\n",
    "            \n",
    "        if quote_open is True and this_is_quote:\n",
    "            this_is_quote = False\n",
    "            linestring += word\n",
    "            continue\n",
    "        elif quote_open is False and this_is_quote:\n",
    "            this_is_quote = False\n",
    "            linestring = linestring[:-1]\n",
    "            linestring += word\n",
    "            linestring += \" \"\n",
    "        else:\n",
    "            linestring += word\n",
    "            linestring += \" \"\n",
    "    final_lines.append(linestring)"
   ]
  },
  {
   "cell_type": "code",
   "execution_count": 209,
   "metadata": {
    "collapsed": false,
    "scrolled": false
   },
   "outputs": [
    {
     "name": "stdout",
     "output_type": "stream",
     "text": [
      "Never if a name sad, by he uttered, undaunted and silken, \n",
      "Never maiden this ominous and ebony raven out spoken methought \n",
      "Till it startled, truly fearing, then there fluttered no prophet, \n",
      "Within if some one before sitting, doubting unto its beast chamber! \n",
      "\"Visitor this desert,\" I stepped, \"expressing before my loneliness beating — \n",
      "Nevermore an and visitor more.\" \n",
      "\n",
      "Ah, not I have me stayed at the weak lamp \n",
      "And the radiant fearing kind stood thy obeisance from each velvet. \n",
      "Surely I followed the evil; eagerly it nodded forgotten to leave \n",
      "For my pallas raven within air - nothing from both lent minute, \n",
      "Upon a ominous or unseen melancholy what the pallas meaning lamp — \n",
      "Sure yet in thereat. \n",
      "\n",
      "And that nameless ominous unbroken fancy that the grim nothing \n",
      "Said he — whispered it by only mortals then spoken ever! \n",
      "Into o'er not, to truly no prophet into my demon, I murmured peering \n",
      "\"Chamber the lamp reclining nothing as my door nothing, \n",
      "The ominous demon linking fact of my evermore bust: \n",
      "The I unmerciful and entrance faster.\" \n",
      "\n",
      "Faintly my tis said more: rapping back still longer, \n",
      "\"Thing,\" followed i, \"but mystery, nevermore my shore I implore — \n",
      "And a nothing is I whispered rapping, and here back I wished divining, \n",
      "And somewhat then I grew agreeing, smiling at his nothing methought, \n",
      "By I sad fluttered radiant me had i\"; not us startled placid that master; - \n",
      "Human nevermore or sir more. \n",
      "\n",
      "Gently at this lamp floating, yet me came over rapping, wandering, \n",
      "Beguiling, smiling hopes no hopes never said to quaff with; \n",
      "And the lore,— followed silken, and the floor grew the darkness, \n",
      "And that silken reply eagerly flown sat this spoken december, \"bird.\" \n",
      "That I gloated, and a soul perfumed nevermore the lining, \"morrow:\" \n",
      "Still the and raven louder? \n",
      "\n",
      "Still from this land ease, many my december as he rapping, \n",
      "Nightly nevermore I was this beguiling before more on nepenthe! \n",
      "\"Eagerly,\" nodded i, \"deep the hath chamber on my moment curtain. \n",
      "Lie he tell, truly, whom aidenn is, and some parting clasp: \n",
      "Clasp its loneliness forget now this bird and the swung quit: \n",
      "Whispered a respite and nothing more.\" \n",
      "\n",
      "Purple only it spoke the seat, when, of all this shore but reply, \n",
      "Of ever stayed the rare sorrow into this weak angels of name; \n",
      "Gently these least ghost burned he; here the burden said and flung it: \n",
      "And, out form of relevancy and plume, sought that my core disaster, \n",
      "Felt of that bust of eyes not of my prophet prophet — \n",
      "Cushioned, or grew, and shadow more! \n",
      "\n",
      "Still the maiden grave smiling his undaunted ominous within sitting \n",
      "To the beak and silken december as the nevermore I sat,: \n",
      "\"Than lordly methought dream tinkled and nameless, name,\" it said, \"ghost craven suddenly purple, \n",
      "Merely uncertain and sure bird napping with the soon raven: \n",
      "Explore I what my scarce yore lies by a fowl's bird shore.' \n",
      "Quoth that entrance, \"back.\" \n",
      "\n",
      "Here I stood the sad disaster to leave raven plainly ghastly, \n",
      "Of my art ungainly stillness — dreary shadow bore — \n",
      "That you will now take entreating at the napping soul dreaming \n",
      "Surely faintly gave spoken that streaming forgiveness from my thing lenore, \n",
      "God and sorrow by this weary reply from my darkness meaning, \n",
      "On unhappy burden for \"then.\" \n",
      "\n",
      "Or the morrow, peering maiden with the thy master, said truly \n",
      "Above one prophet, within if its prophet by the 100 bust you followed shore; \n",
      "Horror here faintly o'er came, still no lady there I said, \n",
      "Of he nevermore longer for haunted, — \"only terrors implore sent distinctly. \n",
      "By some decorum I shall help he, on his pallas adore lost still!\" \n",
      "Before the heart dared, \"never!\" \n",
      "\n",
      "Fluttered to the name meant by lore,— then nevermore broken, \n",
      "\"Now,\" gave i, \"whom myself bends throws my sad devil but discourse, \n",
      "Spoken as a saintly flutter whom hath lamp \n",
      "Was there and wore more of my angels 100 moment darkness — \n",
      "With no eyes at his soul on distant tis madam \n",
      "Of\" nearly — doubtless. \"\n",
      "\n",
      "But the sign back living the my land with tapping, \n",
      "Then o'er wheeled this felt night of obeisance with night and raven and bird — \n",
      "Truly, in a word visitor, I whispered I as entreating \n",
      "Thy within late, peering what the other head from token, \n",
      "What no ebony, late, faintly, raven, and many sign for raven \n",
      "Caught by floating\" sign. \"\n",
      "\n",
      "The I was forgotten in lattice, and the bird agreeing \n",
      "Upon the chamber whose thy books much did o'er my sinking's devil; \n",
      "The or more I followed wondering, by its token above shore beguiling \n",
      "With the lenore's nothing thing that an evermore was he, \n",
      "But whose stately sorrow lamplight unto the god - lenore sitting above \n",
      "Myself shall help, ah, then! \n",
      "\n",
      "Long, swung, that lattice sat stock, said at the pallid respite \n",
      "Chamber as door whose plume - is sent of the unseen light. \n",
      "\" Sorrow, \"i tis,\" melancholy velvet is cushioned you — above the dirges I is blessed thee \n",
      "Answer: lore,— and front than unhappy angels whether floor! \"\n",
      "Bird, ah take that door nevermore, but tell a tis god!\" \n",
      "All the name, \"back.\" \n",
      "\n",
      "\"Tempest.\" said i, \"raven of hope! visitor faintly, of countenance but name! \n",
      "Of name perched, and with bust followed I gently faintly, \n",
      "Sculptured there yet craven, of the door something said — \n",
      "With the stillness above thereat blessed: clasp I further, he adore: \n",
      "Utters there — hath there prophet of lining.: tell i; borrow we, I have!\" \n",
      "Quoth no feather, \"surely.\" \n",
      "\n",
      "\"Denser!\" opened he, \"volume by core — chamber before, of shore and moment. \n",
      "Till a heaven that is if i, if this chamber myself the implore, \n",
      "Be this something of shadow distant into, if the uncertain thing, \n",
      "He can get the lordly rustling whom that hopes beast bosom — \n",
      "Forget the separate and fancy sure whom that books lenore tempter.\" \n",
      "All a nothing, \"suddenly.\" \n",
      "\n",
      "\"Quaff the loneliness my feather into crest, token and sinking.\" me said, peering; \n",
      "\"Let you eagerly unto the fancy or the morrow's grave thereat? \n",
      "Tell the black prophet above a door on the be his midnight utters perched! \n",
      "Dream my lenore weak. dream the lamp on my morrow! one \n",
      "Forget his parting of above my hope, but press his relevancy by above my word.\" \n",
      "Quoth the burden, \"plainly.\" \n",
      "\n",
      "But this guessing, doubtless hesitating, much is rapping, surely utters living \n",
      "On no desolate kind of pallas suddenly in my door syllable — \n",
      "And my pallas implore quoth no prophet as the parting's the hath smiling, \n",
      "Or the nothing - form upon he reclining is my form into a raven; \n",
      "Or my raven of if unto nothing that is croaking of the relevancy \n",
      "Shall be lost: nevermore. \n"
     ]
    }
   ],
   "source": [
    "# Some cleanup...\n",
    "for line in final_lines:\n",
    "    line = line.replace(\" ,\",\",\")\n",
    "    line = line.replace(\" .\",\".\")\n",
    "    line = line.replace(\" !\",\"!\")\n",
    "    line = line.replace(\" ;\",\";\")\n",
    "    line = line.replace(\" i \",\" I \")\n",
    "    line = line.replace(\" :\",\":\")\n",
    "    line = line.replace(\" ?\",\"?\")\n",
    "    line = line.replace(\" 's\",\"'s\")\n",
    "    print(line)"
   ]
  }
 ],
 "metadata": {
  "kernelspec": {
   "display_name": "Python 3",
   "language": "python",
   "name": "python3"
  },
  "language_info": {
   "codemirror_mode": {
    "name": "ipython",
    "version": 3
   },
   "file_extension": ".py",
   "mimetype": "text/x-python",
   "name": "python",
   "nbconvert_exporter": "python",
   "pygments_lexer": "ipython3",
   "version": "3.5.1"
  }
 },
 "nbformat": 4,
 "nbformat_minor": 0
}
